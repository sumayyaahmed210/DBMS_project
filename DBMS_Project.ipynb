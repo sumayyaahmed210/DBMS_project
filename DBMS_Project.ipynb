{
 "cells": [
  {
   "cell_type": "code",
   "execution_count": null,
   "metadata": {},
   "outputs": [],
   "source": [
    "import psycopg2\n",
    "from psycopg2 import sql\n",
    "from psycopg2.extensions import ISOLATION_LEVEL_SERIALIZABLE\n",
    "from tabulate import tabulate"
   ]
  },
  {
   "cell_type": "code",
   "execution_count": null,
   "metadata": {},
   "outputs": [],
   "source": [
    "def execute_trans(sql_commands):\n",
    "  connection = psycopg2.connect(\n",
    "      host= 'localhost',\n",
    "      database= 'postgres',\n",
    "      user= 'postgres',\n",
    "      password= '1701'\n",
    "  )\n",
    "  connection.autocommit = False # We have turned off the auto commit to manage the transactions and to apply ACID properties\n",
    "  cursor = connection.cursor()\n",
    "  try :\n",
    "    # Here we set the isolation level to serializabale\n",
    "    connection.set_isolation_level(ISOLATION_LEVEL_SERIALIZABLE)\n",
    "\n",
    "    # Now this will create a save point before any vital operations is performed\n",
    "    cursor.execute('SAVEPOINT critical_operations')\n",
    "\n",
    "    for sql_commands in sql_commands:\n",
    "      cursor.execute(sql_commands)\n",
    "\n",
    "    # will commit to the transaction if everything is successful\n",
    "    connection.commit()\n",
    "    print('transaction has been successful')\n",
    "  except Exception as e:\n",
    "    print(f\"transaction failed: {e}\")\n",
    "\n",
    "    # This will roll back the transactions to the save point if any critical error has occured\n",
    "    connection.rollback_to_savepoint(\"critical_operations\")\n",
    "    print(\"rolled back to saved point\")\n",
    "\n",
    "  finally:\n",
    "    cursor.close()\n",
    "    connection.close()\n"
   ]
  },
  {
   "cell_type": "code",
   "execution_count": null,
   "metadata": {},
   "outputs": [
    {
     "name": "stdout",
     "output_type": "stream",
     "text": [
      "transaction has been successful\n"
     ]
    }
   ],
   "source": [
    "#This will drop the table if they exist\n",
    "drop_tables = [\"\"\"\n",
    "DROP TABLE IF EXISTS stock;\n",
    "DROP TABLE IF EXISTS product;\n",
    "DROP TABLE IF EXISTS depot;\n",
    "\"\"\"]\n",
    "execute_trans(drop_tables)"
   ]
  },
  {
   "cell_type": "code",
   "execution_count": null,
   "metadata": {},
   "outputs": [
    {
     "name": "stdout",
     "output_type": "stream",
     "text": [
      "transaction has been successful\n"
     ]
    }
   ],
   "source": [
    "#Creatng the table without any constraints\n",
    "create_tables = [\"\"\"\n",
    "\n",
    "CREATE TABLE IF NOT EXISTS product (\n",
    "    prod_id VARCHAR(5),\n",
    "    pname VARCHAR(50),\n",
    "    price DECIMAL(10, 2)\n",
    ");\n",
    "\n",
    "CREATE TABLE IF NOT EXISTS depot (\n",
    "    dep_id VARCHAR(5),\n",
    "    addr VARCHAR(50),\n",
    "    volume INT\n",
    ");\n",
    "\n",
    "CREATE TABLE IF NOT EXISTS stock (\n",
    "    prod_id VARCHAR(5),\n",
    "    dep_id VARCHAR(5),\n",
    "    quantity INT\n",
    ");\"\"\"]\n",
    "\n",
    "execute_trans(create_tables)"
   ]
  },
  {
   "cell_type": "code",
   "execution_count": null,
   "metadata": {},
   "outputs": [
    {
     "name": "stdout",
     "output_type": "stream",
     "text": [
      "transaction has been successful\n"
     ]
    }
   ],
   "source": [
    "# Adding the required constraints\n",
    "alter_commands = [\"\"\"\n",
    "ALTER TABLE Product ADD CONSTRAINT pk_product PRIMARY KEY (prod_id);\n",
    "                  \n",
    "ALTER TABLE Product ADD CONSTRAINT ck_product_price CHECK (price > 0);\n",
    "                  \n",
    "ALTER TABLE depot ADD CONSTRAINT pk_depot PRIMARY KEY (dep_id);\n",
    "                  \n",
    "ALTER TABLE stock ADD CONSTRAINT pk_stock PRIMARY KEY (prod_id,dep_id);\n",
    "                  \n",
    "ALTER TABLE stock ADD CONSTRAINT fk_product FOREIGN KEY (prod_id) REFERENCES product(prod_id) ON DELETE CASCADE ON UPDATE CASCADE;\n",
    "                  \n",
    "ALTER TABLE stock ADD CONSTRAINT fk_depot FOREIGN KEY (dep_id) REFERENCES depot(dep_id) ON DELETE CASCADE ON UPDATE CASCADE;\n",
    "\"\"\"]\n",
    "execute_trans(alter_commands)"
   ]
  },
  {
   "cell_type": "code",
   "execution_count": null,
   "metadata": {},
   "outputs": [
    {
     "name": "stdout",
     "output_type": "stream",
     "text": [
      "transaction has been successful\n"
     ]
    }
   ],
   "source": [
    "# Inserting values into the tables\n",
    "insert_values = [\"\"\"\n",
    "INSERT INTO product (prod_id, pname, price)\n",
    "VALUES \n",
    "    ('p1', 'tape', 2.5),\n",
    "    ('p2', 'tv', 250),\n",
    "    ('p3', 'vcr', 80);\n",
    "\n",
    "INSERT INTO depot (dep_id, addr, volume)\n",
    "VALUES ('d1', 'NEW YORK', 9000),\n",
    "       ('d2', 'SYRACUSE', 6000),\n",
    "       ('d4', 'NEW YORK', 2000);\n",
    "\n",
    "INSERT INTO stock (prod_id, dep_id, quantity)\n",
    "VALUES \n",
    "    ('p1', 'd1', 1000),\n",
    "    ('p1', 'd2', -100),\n",
    "    ('p1', 'd4', 1200),\n",
    "    ('p3', 'd1', 3000),\n",
    "    ('p3', 'd4', 2000),\n",
    "    ('p2', 'd4', 1500),\n",
    "    ('p2', 'd1', -400),\n",
    "    ('p2', 'd2', 2000);\n",
    "\"\"\"]\n",
    "\n",
    "execute_trans(insert_values)"
   ]
  },
  {
   "cell_type": "code",
   "execution_count": null,
   "metadata": {},
   "outputs": [
    {
     "name": "stdout",
     "output_type": "stream",
     "text": [
      "transaction has been successful\n"
     ]
    }
   ],
   "source": [
    "transaction_1 = [\n",
    "    \"DELETE FROM product WHERE prod_id='p1';\"   \n",
    "]\n",
    "\n",
    "\"ROLLBACK;\" #can add roll back to revert all the changes made.\n",
    "\n",
    "execute_trans(transaction_1)"
   ]
  },
  {
   "cell_type": "code",
   "execution_count": null,
   "metadata": {},
   "outputs": [
    {
     "name": "stdout",
     "output_type": "stream",
     "text": [
      "transaction has been successful\n"
     ]
    }
   ],
   "source": [
    "transaction_2 = [\n",
    "    \"DELETE FROM depot WHERE dep_id='d1';\"   \n",
    "]\n",
    "\n",
    "\"ROLLBACK;\" #can add roll back to revert all the changes made.\n",
    "\n",
    "execute_trans(transaction_2)"
   ]
  },
  {
   "cell_type": "code",
   "execution_count": null,
   "metadata": {},
   "outputs": [
    {
     "name": "stdout",
     "output_type": "stream",
     "text": [
      "transaction has been successful\n"
     ]
    }
   ],
   "source": [
    "transaction_3 = [\n",
    "    \"UPDATE depot SET dep_id = 'dd1' WHERE dep_id = 'd1';\"   \n",
    "]\n",
    "\n",
    "\"ROLLBACK;\" #can add roll back to revert all the changes made.\n",
    "\n",
    "execute_trans(transaction_3)"
   ]
  },
  {
   "cell_type": "code",
   "execution_count": null,
   "metadata": {},
   "outputs": [
    {
     "name": "stdout",
     "output_type": "stream",
     "text": [
      "transaction has been successful\n"
     ]
    }
   ],
   "source": [
    "transaction_4 = [\n",
    "    \"UPDATE product SET prod_id = 'pp1' WHERE prod_id = 'p1';\"\n",
    "]\n",
    "\n",
    "\"ROLLBACK;\" #can add roll back to revert all the changes made.\n",
    "\n",
    "execute_trans(transaction_4)"
   ]
  },
  {
   "cell_type": "code",
   "execution_count": null,
   "metadata": {},
   "outputs": [
    {
     "name": "stdout",
     "output_type": "stream",
     "text": [
      "transaction has been successful\n"
     ]
    }
   ],
   "source": [
    "transaction_5 = [\n",
    "    \"INSERT INTO product(prod_id,pname,price) VALUES ('p100', 'cd', 5);\"\n",
    "    \"INSERT INTO stock(prod_id,dep_id,quantity) VALUES ('p100', 'd2', 50);\"\n",
    "]\n",
    "\n",
    "\"ROLLBACK;\" #can add roll back to revert all the changes made.\n",
    "\n",
    "execute_trans(transaction_5)"
   ]
  },
  {
   "cell_type": "code",
   "execution_count": null,
   "metadata": {},
   "outputs": [
    {
     "name": "stdout",
     "output_type": "stream",
     "text": [
      "transaction has been successful\n"
     ]
    }
   ],
   "source": [
    "transaction_6 = [\n",
    "    \"INSERT INTO depot VALUES ('d100', 'Chicago', 100);\"\n",
    "    \"INSERT INTO stock VALUES ('p1', 'd100', 100);\"\n",
    "]\n",
    "\n",
    "\"ROLLBACK;\" #can add roll back to revert all the changes made.\n",
    "\n",
    "execute_trans(transaction_6)"
   ]
  },
  {
   "cell_type": "code",
   "execution_count": null,
   "metadata": {},
   "outputs": [],
   "source": []
  },
  {
   "cell_type": "code",
   "execution_count": null,
   "metadata": {},
   "outputs": [],
   "source": []
  },
  {
   "cell_type": "code",
   "execution_count": null,
   "metadata": {},
   "outputs": [],
   "source": []
  },
  {
   "cell_type": "code",
   "execution_count": null,
   "metadata": {},
   "outputs": [],
   "source": []
  },
  {
   "cell_type": "code",
   "execution_count": null,
   "metadata": {},
   "outputs": [],
   "source": []
  }
 ],
 "metadata": {
  "kernelspec": {
   "display_name": "Python 3",
   "language": "python",
   "name": "python3"
  },
  "language_info": {
   "codemirror_mode": {
    "name": "ipython",
    "version": 3
   },
   "file_extension": ".py",
   "mimetype": "text/x-python",
   "name": "python",
   "nbconvert_exporter": "python",
   "pygments_lexer": "ipython3",
   "version": "3.9.6"
  }
 },
 "nbformat": 4,
 "nbformat_minor": 2
}
